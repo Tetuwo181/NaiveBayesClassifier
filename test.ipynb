{
 "cells": [
  {
   "cell_type": "code",
   "execution_count": 1,
   "metadata": {
    "collapsed": true
   },
   "outputs": [],
   "source": [
    "import pandas as pd\n",
    "import numpy as np\n",
    "import os\n",
    "from parts import data_holder as dh\n",
    "from parts import prob_calculator as pc\n",
    "from parts import discretizatior\n",
    "from parts import trainer"
   ]
  },
  {
   "cell_type": "code",
   "execution_count": 2,
   "metadata": {},
   "outputs": [],
   "source": [
    "DATA_DIR_PATH = os.path.join(os.getcwd(), \"data\")\n",
    "DATA_SET_NAME = \"sample.csv\"\n",
    "DATA_SET_PATH = os.path.join(DATA_DIR_PATH, DATA_SET_NAME)\n",
    "DIVIDE_NUM = 5\n"
   ]
  },
  {
   "cell_type": "code",
   "execution_count": 3,
   "metadata": {},
   "outputs": [
    {
     "name": "stdout",
     "output_type": "stream",
     "text": [
      "600\n"
     ]
    }
   ],
   "source": [
    "base_df = pd.read_csv(DATA_SET_PATH, header=None)\n",
    "class_set = base_df[base_df.columns[-1]].values\n",
    "row_data_set = base_df[base_df.columns[:-1]].values\n",
    "print(len(base_df))\n"
   ]
  },
  {
   "cell_type": "code",
   "execution_count": 4,
   "metadata": {},
   "outputs": [
    {
     "name": "stdout",
     "output_type": "stream",
     "text": [
      "[array([1, 1], dtype=object), array([1, 1], dtype=object), array([1, 2], dtype=object), array([2, 2], dtype=object), array([1, 2], dtype=object), array([2, 1], dtype=object), array([1, 1], dtype=object), array([1, 1], dtype=object), array([2, 1], dtype=object), array([1, 1], dtype=object), array([2, 1], dtype=object), array([1, 2], dtype=object), array([1, 1], dtype=object), array([1, 2], dtype=object), array([1, 1], dtype=object), array([2, 1], dtype=object), array([1, 1], dtype=object), array([2, 1], dtype=object), array([1, 1], dtype=object), array([2, 1], dtype=object), array([1, 1], dtype=object), array([1, 1], dtype=object), array([1, 1], dtype=object), array([1, 1], dtype=object), array([1, 1], dtype=object), array([2, 2], dtype=object), array([1, 2], dtype=object), array([1, 2], dtype=object), array([1, 2], dtype=object), array([1, 1], dtype=object), array([1, 1], dtype=object), array([2, 1], dtype=object), array([2, 1], dtype=object), array([1, 1], dtype=object), array([1, 1], dtype=object), array([2, 1], dtype=object), array([1, 1], dtype=object), array([2, 1], dtype=object), array([1, 2], dtype=object), array([1, 1], dtype=object), array([2, 1], dtype=object), array([1, 1], dtype=object), array([2, 1], dtype=object), array([1, 1], dtype=object), array([1, 1], dtype=object), array([1, 1], dtype=object), array([2, 1], dtype=object), array([1, 1], dtype=object), array([1, 2], dtype=object), array([2, 1], dtype=object), array([2, 1], dtype=object), array([1, 1], dtype=object), array([1, 2], dtype=object), array([1, 1], dtype=object), array([1, 1], dtype=object), array([2, 2], dtype=object), array([1, 2], dtype=object), array([2, 1], dtype=object), array([1, 1], dtype=object), array([1, 1], dtype=object), array([1, 1], dtype=object), array([1, 1], dtype=object), array([1, 1], dtype=object), array([1, 2], dtype=object), array([2, 1], dtype=object), array([1, 1], dtype=object), array([1, 2], dtype=object), array([1, 2], dtype=object), array([1, 1], dtype=object), array([1, 1], dtype=object), array([1, 1], dtype=object), array([1, 1], dtype=object), array([1, 1], dtype=object), array([1, 2], dtype=object), array([1, 2], dtype=object), array([1, 2], dtype=object), array([2, 1], dtype=object), array([2, 1], dtype=object), array([1, 1], dtype=object), array([2, 2], dtype=object), array([1, 1], dtype=object), array([1, 1], dtype=object), array([1, 1], dtype=object), array([1, 2], dtype=object), array([2, 2], dtype=object), array([2, 2], dtype=object), array([1, 1], dtype=object), array([1, 1], dtype=object), array([1, 1], dtype=object), array([1, 1], dtype=object), array([2, 1], dtype=object), array([1, 2], dtype=object), array([1, 1], dtype=object), array([1, 1], dtype=object), array([1, 1], dtype=object), array([1, 1], dtype=object), array([1, 1], dtype=object), array([2, 2], dtype=object), array([1, 2], dtype=object), array([2, 1], dtype=object), array([1, 2], dtype=object), array([2, 1], dtype=object), array([2, 2], dtype=object), array([2, 1], dtype=object), array([1, 1], dtype=object), array([2, 1], dtype=object), array([1, 1], dtype=object), array([1, 1], dtype=object), array([1, 1], dtype=object), array([1, 1], dtype=object), array([2, 1], dtype=object), array([1, 1], dtype=object), array([2, 1], dtype=object), array([2, 2], dtype=object), array([1, 1], dtype=object), array([1, 1], dtype=object), array([1, 1], dtype=object), array([1, 2], dtype=object), array([2, 2], dtype=object), array([1, 1], dtype=object), array([1, 2], dtype=object), array([1, 1], dtype=object), array([1, 2], dtype=object), array([1, 2], dtype=object), array([2, 1], dtype=object), array([1, 2], dtype=object), array([1, 2], dtype=object), array([1, 1], dtype=object), array([1, 2], dtype=object), array([2, 1], dtype=object), array([1, 2], dtype=object), array([1, 1], dtype=object), array([1, 1], dtype=object), array([2, 2], dtype=object), array([2, 1], dtype=object), array([1, 1], dtype=object), array([2, 1], dtype=object), array([1, 2], dtype=object), array([1, 1], dtype=object), array([1, 2], dtype=object), array([1, 1], dtype=object), array([2, 1], dtype=object), array([1, 1], dtype=object), array([1, 1], dtype=object), array([2, 2], dtype=object), array([1, 2], dtype=object), array([1, 2], dtype=object), array([2, 1], dtype=object), array([2, 1], dtype=object), array([1, 1], dtype=object), array([1, 4], dtype=object), array([2, 4], dtype=object), array([1, 4], dtype=object), array([1, 4], dtype=object), array([1, 4], dtype=object), array([1, 4], dtype=object), array([1, 3], dtype=object), array([1, 4], dtype=object), array([1, 4], dtype=object), array([1, 3], dtype=object), array([1, 3], dtype=object), array([1, 4], dtype=object), array([1, 4], dtype=object), array([1, 4], dtype=object), array([1, 4], dtype=object), array([1, 4], dtype=object), array([1, 4], dtype=object), array([1, 3], dtype=object), array([1, 3], dtype=object), array([1, 3], dtype=object), array([1, 3], dtype=object), array([1, 3], dtype=object), array([1, 4], dtype=object), array([2, 3], dtype=object), array([1, 4], dtype=object), array([2, 4], dtype=object), array([1, 3], dtype=object), array([1, 4], dtype=object), array([1, 4], dtype=object), array([1, 3], dtype=object), array([1, 4], dtype=object), array([1, 4], dtype=object), array([1, 4], dtype=object), array([1, 4], dtype=object), array([1, 4], dtype=object), array([1, 3], dtype=object), array([1, 4], dtype=object), array([1, 4], dtype=object), array([1, 3], dtype=object), array([2, 3], dtype=object), array([1, 4], dtype=object), array([1, 4], dtype=object), array([1, 4], dtype=object), array([1, 4], dtype=object), array([1, 4], dtype=object), array([1, 4], dtype=object), array([1, 4], dtype=object), array([2, 4], dtype=object), array([2, 4], dtype=object), array([1, 4], dtype=object), array([2, 3], dtype=object), array([2, 3], dtype=object), array([2, 4], dtype=object), array([1, 4], dtype=object), array([1, 4], dtype=object), array([1, 3], dtype=object), array([2, 4], dtype=object), array([1, 4], dtype=object), array([1, 4], dtype=object), array([1, 4], dtype=object), array([1, 4], dtype=object), array([1, 4], dtype=object), array([2, 4], dtype=object), array([1, 4], dtype=object), array([2, 4], dtype=object), array([2, 4], dtype=object), array([1, 4], dtype=object), array([1, 4], dtype=object), array([1, 4], dtype=object), array([1, 4], dtype=object), array([1, 3], dtype=object), array([2, 4], dtype=object), array([1, 4], dtype=object), array([1, 4], dtype=object), array([2, 4], dtype=object), array([1, 4], dtype=object), array([2, 4], dtype=object), array([1, 4], dtype=object), array([1, 4], dtype=object), array([1, 4], dtype=object), array([1, 4], dtype=object), array([1, 4], dtype=object), array([1, 4], dtype=object), array([1, 3], dtype=object), array([1, 4], dtype=object), array([1, 4], dtype=object), array([1, 4], dtype=object), array([1, 4], dtype=object), array([2, 3], dtype=object), array([2, 4], dtype=object), array([2, 4], dtype=object), array([2, 4], dtype=object), array([2, 4], dtype=object), array([1, 3], dtype=object), array([1, 4], dtype=object), array([1, 4], dtype=object), array([2, 4], dtype=object), array([1, 4], dtype=object), array([1, 3], dtype=object), array([1, 4], dtype=object), array([1, 4], dtype=object), array([1, 4], dtype=object), array([2, 4], dtype=object), array([1, 4], dtype=object), array([1, 4], dtype=object), array([1, 4], dtype=object), array([1, 4], dtype=object), array([2, 4], dtype=object), array([1, 4], dtype=object), array([2, 3], dtype=object), array([1, 3], dtype=object), array([1, 4], dtype=object), array([1, 4], dtype=object), array([1, 3], dtype=object), array([2, 4], dtype=object), array([2, 4], dtype=object), array([1, 4], dtype=object), array([1, 4], dtype=object), array([1, 4], dtype=object), array([1, 3], dtype=object), array([1, 4], dtype=object), array([1, 4], dtype=object), array([1, 3], dtype=object), array([1, 3], dtype=object), array([2, 4], dtype=object), array([1, 4], dtype=object), array([1, 3], dtype=object), array([1, 4], dtype=object), array([1, 4], dtype=object), array([1, 3], dtype=object), array([1, 3], dtype=object), array([1, 4], dtype=object), array([2, 4], dtype=object), array([1, 3], dtype=object), array([1, 4], dtype=object), array([2, 4], dtype=object), array([1, 4], dtype=object), array([2, 4], dtype=object), array([1, 3], dtype=object), array([1, 4], dtype=object), array([1, 4], dtype=object), array([1, 3], dtype=object), array([2, 4], dtype=object), array([1, 3], dtype=object), array([2, 4], dtype=object), array([2, 4], dtype=object), array([2, 3], dtype=object), array([1, 3], dtype=object), array([1, 4], dtype=object), array([1, 4], dtype=object), array([4, 1], dtype=object), array([3, 2], dtype=object), array([4, 1], dtype=object), array([4, 1], dtype=object), array([4, 2], dtype=object), array([4, 1], dtype=object), array([4, 1], dtype=object), array([4, 2], dtype=object), array([4, 2], dtype=object), array([4, 1], dtype=object), array([4, 2], dtype=object), array([4, 1], dtype=object), array([4, 1], dtype=object), array([4, 2], dtype=object), array([4, 1], dtype=object), array([4, 2], dtype=object), array([4, 1], dtype=object), array([4, 1], dtype=object), array([4, 1], dtype=object), array([3, 1], dtype=object), array([3, 1], dtype=object), array([4, 1], dtype=object), array([4, 1], dtype=object), array([3, 1], dtype=object), array([4, 1], dtype=object), array([4, 1], dtype=object), array([4, 1], dtype=object), array([4, 1], dtype=object), array([4, 1], dtype=object), array([4, 1], dtype=object), array([4, 1], dtype=object), array([3, 1], dtype=object), array([4, 2], dtype=object), array([4, 1], dtype=object), array([4, 1], dtype=object), array([3, 2], dtype=object), array([4, 1], dtype=object), array([3, 2], dtype=object), array([3, 1], dtype=object), array([4, 1], dtype=object), array([4, 1], dtype=object), array([4, 1], dtype=object), array([4, 1], dtype=object), array([4, 1], dtype=object), array([3, 1], dtype=object), array([4, 1], dtype=object), array([4, 1], dtype=object), array([4, 1], dtype=object), array([4, 1], dtype=object), array([4, 1], dtype=object), array([4, 2], dtype=object), array([4, 1], dtype=object), array([3, 2], dtype=object), array([4, 1], dtype=object), array([3, 2], dtype=object), array([4, 2], dtype=object), array([4, 2], dtype=object), array([4, 2], dtype=object), array([4, 1], dtype=object), array([3, 1], dtype=object), array([3, 2], dtype=object), array([4, 1], dtype=object), array([4, 1], dtype=object), array([3, 2], dtype=object), array([3, 1], dtype=object), array([4, 1], dtype=object), array([3, 1], dtype=object), array([4, 2], dtype=object), array([4, 2], dtype=object), array([4, 1], dtype=object), array([4, 1], dtype=object), array([4, 2], dtype=object), array([3, 1], dtype=object), array([4, 1], dtype=object), array([4, 2], dtype=object), array([4, 1], dtype=object), array([4, 1], dtype=object), array([4, 1], dtype=object), array([4, 1], dtype=object), array([4, 1], dtype=object), array([3, 1], dtype=object), array([4, 1], dtype=object), array([4, 1], dtype=object), array([4, 1], dtype=object), array([4, 1], dtype=object), array([4, 1], dtype=object), array([4, 1], dtype=object), array([4, 2], dtype=object), array([4, 1], dtype=object), array([3, 2], dtype=object), array([3, 1], dtype=object), array([4, 1], dtype=object), array([4, 1], dtype=object), array([3, 2], dtype=object), array([4, 1], dtype=object), array([4, 2], dtype=object), array([4, 2], dtype=object), array([4, 1], dtype=object), array([4, 2], dtype=object), array([4, 1], dtype=object), array([3, 1], dtype=object), array([4, 1], dtype=object), array([4, 1], dtype=object), array([3, 1], dtype=object), array([3, 1], dtype=object), array([4, 1], dtype=object), array([4, 1], dtype=object), array([4, 2], dtype=object), array([4, 2], dtype=object), array([4, 2], dtype=object), array([4, 1], dtype=object), array([4, 1], dtype=object), array([4, 2], dtype=object), array([3, 1], dtype=object), array([4, 1], dtype=object), array([4, 1], dtype=object), array([4, 2], dtype=object), array([4, 1], dtype=object), array([4, 2], dtype=object), array([4, 2], dtype=object), array([4, 1], dtype=object), array([3, 1], dtype=object), array([4, 1], dtype=object), array([4, 2], dtype=object), array([4, 2], dtype=object), array([4, 1], dtype=object), array([3, 2], dtype=object), array([4, 1], dtype=object), array([3, 2], dtype=object), array([4, 1], dtype=object), array([4, 1], dtype=object), array([4, 1], dtype=object), array([3, 1], dtype=object), array([4, 1], dtype=object), array([3, 1], dtype=object), array([4, 1], dtype=object), array([4, 1], dtype=object), array([3, 1], dtype=object), array([4, 1], dtype=object), array([4, 1], dtype=object), array([4, 1], dtype=object), array([4, 1], dtype=object), array([4, 2], dtype=object), array([3, 1], dtype=object), array([4, 1], dtype=object), array([4, 1], dtype=object), array([4, 1], dtype=object), array([4, 1], dtype=object), array([4, 2], dtype=object), array([4, 1], dtype=object), array([4, 4], dtype=object), array([4, 4], dtype=object), array([4, 4], dtype=object), array([4, 3], dtype=object), array([4, 4], dtype=object), array([4, 3], dtype=object), array([4, 4], dtype=object), array([4, 3], dtype=object), array([3, 4], dtype=object), array([4, 4], dtype=object), array([4, 3], dtype=object), array([3, 3], dtype=object), array([4, 4], dtype=object), array([4, 4], dtype=object), array([4, 4], dtype=object), array([3, 3], dtype=object), array([4, 4], dtype=object), array([4, 3], dtype=object), array([4, 3], dtype=object), array([3, 4], dtype=object), array([4, 4], dtype=object), array([3, 4], dtype=object), array([4, 4], dtype=object), array([4, 3], dtype=object), array([4, 4], dtype=object), array([3, 4], dtype=object), array([4, 4], dtype=object), array([4, 3], dtype=object), array([4, 4], dtype=object), array([4, 4], dtype=object), array([4, 4], dtype=object), array([4, 4], dtype=object), array([4, 4], dtype=object), array([4, 3], dtype=object), array([4, 3], dtype=object), array([4, 4], dtype=object), array([4, 4], dtype=object), array([4, 3], dtype=object), array([3, 4], dtype=object), array([3, 4], dtype=object), array([3, 4], dtype=object), array([4, 4], dtype=object), array([4, 4], dtype=object), array([4, 4], dtype=object), array([4, 4], dtype=object), array([4, 4], dtype=object), array([4, 4], dtype=object), array([4, 4], dtype=object), array([4, 3], dtype=object), array([4, 3], dtype=object), array([4, 3], dtype=object), array([4, 4], dtype=object), array([4, 4], dtype=object), array([4, 3], dtype=object), array([4, 4], dtype=object), array([3, 4], dtype=object), array([4, 4], dtype=object), array([3, 4], dtype=object), array([4, 4], dtype=object), array([4, 4], dtype=object), array([3, 4], dtype=object), array([4, 4], dtype=object), array([4, 4], dtype=object), array([4, 3], dtype=object), array([3, 4], dtype=object), array([4, 4], dtype=object), array([4, 4], dtype=object), array([3, 4], dtype=object), array([4, 4], dtype=object), array([4, 4], dtype=object), array([4, 3], dtype=object), array([4, 3], dtype=object), array([4, 4], dtype=object), array([4, 3], dtype=object), array([4, 4], dtype=object), array([3, 4], dtype=object), array([4, 4], dtype=object), array([4, 4], dtype=object), array([4, 4], dtype=object), array([4, 4], dtype=object), array([4, 3], dtype=object), array([3, 3], dtype=object), array([4, 4], dtype=object), array([4, 4], dtype=object), array([4, 3], dtype=object), array([4, 3], dtype=object), array([4, 4], dtype=object), array([4, 3], dtype=object), array([3, 4], dtype=object), array([4, 4], dtype=object), array([4, 4], dtype=object), array([3, 4], dtype=object), array([4, 4], dtype=object), array([4, 3], dtype=object), array([4, 4], dtype=object), array([3, 4], dtype=object), array([4, 3], dtype=object), array([4, 4], dtype=object), array([4, 4], dtype=object), array([4, 4], dtype=object), array([4, 4], dtype=object), array([3, 3], dtype=object), array([4, 4], dtype=object), array([4, 3], dtype=object), array([4, 4], dtype=object), array([4, 4], dtype=object), array([4, 4], dtype=object), array([3, 4], dtype=object), array([4, 4], dtype=object), array([3, 4], dtype=object), array([4, 4], dtype=object), array([4, 4], dtype=object), array([4, 4], dtype=object), array([4, 4], dtype=object), array([4, 3], dtype=object), array([4, 3], dtype=object), array([4, 4], dtype=object), array([3, 4], dtype=object), array([3, 4], dtype=object), array([4, 4], dtype=object), array([4, 4], dtype=object), array([3, 4], dtype=object), array([4, 3], dtype=object), array([4, 4], dtype=object), array([4, 4], dtype=object), array([3, 4], dtype=object), array([4, 4], dtype=object), array([4, 4], dtype=object), array([4, 3], dtype=object), array([4, 4], dtype=object), array([4, 3], dtype=object), array([4, 4], dtype=object), array([4, 4], dtype=object), array([4, 4], dtype=object), array([4, 3], dtype=object), array([4, 4], dtype=object), array([3, 4], dtype=object), array([4, 4], dtype=object), array([4, 4], dtype=object), array([4, 4], dtype=object), array([4, 4], dtype=object), array([4, 4], dtype=object), array([3, 4], dtype=object), array([4, 4], dtype=object), array([4, 3], dtype=object), array([4, 3], dtype=object), array([4, 4], dtype=object), array([4, 4], dtype=object), array([4, 4], dtype=object), array([4, 3], dtype=object)] [[0.39296407 0.32476167]\n [0.27288871 0.33748257]\n [0.36303905 0.44467413]\n ...\n [0.94633253 0.920734  ]\n [0.93038646 0.89570604]\n [0.81481895 0.77650229]]\n"
     ]
    }
   ],
   "source": [
    "discretizatior_base = discretizatior.sample(DIVIDE_NUM)\n",
    "vectorised_discretizatior = np.frompyfunc(discretizatior_base, 1, 1)\n",
    "discretizated_data_set = [vectorised_discretizatior(data) for data in row_data_set]\n",
    "print(discretizated_data_set, row_data_set)\n"
   ]
  },
  {
   "cell_type": "markdown",
   "metadata": {},
   "source": [
    "# DataFrameのテスト"
   ]
  },
  {
   "cell_type": "code",
   "execution_count": 5,
   "metadata": {},
   "outputs": [
    {
     "name": "stdout",
     "output_type": "stream",
     "text": [
      "[array([1, 1], dtype=object) array([1, 1], dtype=object)\n array([1, 2], dtype=object) array([2, 2], dtype=object)\n array([1, 2], dtype=object) array([2, 1], dtype=object)\n array([1, 1], dtype=object) array([1, 1], dtype=object)\n array([2, 1], dtype=object) array([1, 1], dtype=object)\n array([2, 1], dtype=object) array([1, 2], dtype=object)\n array([1, 1], dtype=object) array([1, 2], dtype=object)\n array([1, 1], dtype=object) array([2, 1], dtype=object)\n array([1, 1], dtype=object) array([2, 1], dtype=object)\n array([1, 1], dtype=object) array([2, 1], dtype=object)\n array([1, 1], dtype=object) array([1, 1], dtype=object)\n array([1, 1], dtype=object) array([1, 1], dtype=object)\n array([1, 1], dtype=object) array([2, 2], dtype=object)\n array([1, 2], dtype=object) array([1, 2], dtype=object)\n array([1, 2], dtype=object) array([1, 1], dtype=object)\n array([1, 1], dtype=object) array([2, 1], dtype=object)\n array([2, 1], dtype=object) array([1, 1], dtype=object)\n array([1, 1], dtype=object) array([2, 1], dtype=object)\n array([1, 1], dtype=object) array([2, 1], dtype=object)\n array([1, 2], dtype=object) array([1, 1], dtype=object)\n array([2, 1], dtype=object) array([1, 1], dtype=object)\n array([2, 1], dtype=object) array([1, 1], dtype=object)\n array([1, 1], dtype=object) array([1, 1], dtype=object)\n array([2, 1], dtype=object) array([1, 1], dtype=object)\n array([1, 2], dtype=object) array([2, 1], dtype=object)\n array([2, 1], dtype=object) array([1, 1], dtype=object)\n array([1, 2], dtype=object) array([1, 1], dtype=object)\n array([1, 1], dtype=object) array([2, 2], dtype=object)\n array([1, 2], dtype=object) array([2, 1], dtype=object)\n array([1, 1], dtype=object) array([1, 1], dtype=object)\n array([1, 1], dtype=object) array([1, 1], dtype=object)\n array([1, 1], dtype=object) array([1, 2], dtype=object)\n array([2, 1], dtype=object) array([1, 1], dtype=object)\n array([1, 2], dtype=object) array([1, 2], dtype=object)\n array([1, 1], dtype=object) array([1, 1], dtype=object)\n array([1, 1], dtype=object) array([1, 1], dtype=object)\n array([1, 1], dtype=object) array([1, 2], dtype=object)\n array([1, 2], dtype=object) array([1, 2], dtype=object)\n array([2, 1], dtype=object) array([2, 1], dtype=object)\n array([1, 1], dtype=object) array([2, 2], dtype=object)\n array([1, 1], dtype=object) array([1, 1], dtype=object)\n array([1, 1], dtype=object) array([1, 2], dtype=object)\n array([2, 2], dtype=object) array([2, 2], dtype=object)\n array([1, 1], dtype=object) array([1, 1], dtype=object)\n array([1, 1], dtype=object) array([1, 1], dtype=object)\n array([2, 1], dtype=object) array([1, 2], dtype=object)\n array([1, 1], dtype=object) array([1, 1], dtype=object)\n array([1, 1], dtype=object) array([1, 1], dtype=object)\n array([1, 1], dtype=object) array([2, 2], dtype=object)\n array([1, 2], dtype=object) array([2, 1], dtype=object)\n array([1, 2], dtype=object) array([2, 1], dtype=object)\n array([2, 2], dtype=object) array([2, 1], dtype=object)\n array([1, 1], dtype=object) array([2, 1], dtype=object)\n array([1, 1], dtype=object) array([1, 1], dtype=object)\n array([1, 1], dtype=object) array([1, 1], dtype=object)\n array([2, 1], dtype=object) array([1, 1], dtype=object)\n array([2, 1], dtype=object) array([2, 2], dtype=object)\n array([1, 1], dtype=object) array([1, 1], dtype=object)\n array([1, 1], dtype=object) array([1, 2], dtype=object)\n array([2, 2], dtype=object) array([1, 1], dtype=object)\n array([1, 2], dtype=object) array([1, 1], dtype=object)\n array([1, 2], dtype=object) array([1, 2], dtype=object)\n array([2, 1], dtype=object) array([1, 2], dtype=object)\n array([1, 2], dtype=object) array([1, 1], dtype=object)\n array([1, 2], dtype=object) array([2, 1], dtype=object)\n array([1, 2], dtype=object) array([1, 1], dtype=object)\n array([1, 1], dtype=object) array([2, 2], dtype=object)\n array([2, 1], dtype=object) array([1, 1], dtype=object)\n array([2, 1], dtype=object) array([1, 2], dtype=object)\n array([1, 1], dtype=object) array([1, 2], dtype=object)\n array([1, 1], dtype=object) array([2, 1], dtype=object)\n array([1, 1], dtype=object) array([1, 1], dtype=object)\n array([2, 2], dtype=object) array([1, 2], dtype=object)\n array([1, 2], dtype=object) array([2, 1], dtype=object)\n array([2, 1], dtype=object) array([1, 1], dtype=object)] [0 0 0 0 0 0 0 0 0 0 0 0 0 0 0 0 0 0 0 0 0 0 0 0 0 0 0 0 0 0 0 0 0 0 0 0 0\n 0 0 0 0 0 0 0 0 0 0 0 0 0 0 0 0 0 0 0 0 0 0 0 0 0 0 0 0 0 0 0 0 0 0 0 0 0\n 0 0 0 0 0 0 0 0 0 0 0 0 0 0 0 0 0 0 0 0 0 0 0 0 0 0 0 0 0 0 0 0 0 0 0 0 0\n 0 0 0 0 0 0 0 0 0 0 0 0 0 0 0 0 0 0 0 0 0 0 0 0 0 0 0 0 0 0 0 0 0 0 0 0 0\n 0 0]\n[array([1, 1], dtype=object) array([1, 1], dtype=object)\n array([1, 2], dtype=object) array([1, 2], dtype=object)\n array([1, 1], dtype=object) array([1, 1], dtype=object)\n array([1, 1], dtype=object) array([1, 2], dtype=object)\n array([1, 1], dtype=object) array([1, 2], dtype=object)\n array([1, 1], dtype=object) array([1, 1], dtype=object)\n array([1, 1], dtype=object) array([1, 1], dtype=object)\n array([1, 1], dtype=object) array([1, 1], dtype=object)\n array([1, 1], dtype=object) array([1, 1], dtype=object)\n array([1, 2], dtype=object) array([1, 2], dtype=object)\n array([1, 2], dtype=object) array([1, 1], dtype=object)\n array([1, 1], dtype=object) array([1, 1], dtype=object)\n array([1, 1], dtype=object) array([1, 1], dtype=object)\n array([1, 2], dtype=object) array([1, 1], dtype=object)\n array([1, 1], dtype=object) array([1, 1], dtype=object)\n array([1, 1], dtype=object) array([1, 1], dtype=object)\n array([1, 1], dtype=object) array([1, 2], dtype=object)\n array([1, 1], dtype=object) array([1, 2], dtype=object)\n array([1, 1], dtype=object) array([1, 1], dtype=object)\n array([1, 2], dtype=object) array([1, 1], dtype=object)\n array([1, 1], dtype=object) array([1, 1], dtype=object)\n array([1, 1], dtype=object) array([1, 1], dtype=object)\n array([1, 2], dtype=object) array([1, 1], dtype=object)\n array([1, 2], dtype=object) array([1, 2], dtype=object)\n array([1, 1], dtype=object) array([1, 1], dtype=object)\n array([1, 1], dtype=object) array([1, 1], dtype=object)\n array([1, 1], dtype=object) array([1, 2], dtype=object)\n array([1, 2], dtype=object) array([1, 2], dtype=object)\n array([1, 1], dtype=object) array([1, 1], dtype=object)\n array([1, 1], dtype=object) array([1, 1], dtype=object)\n array([1, 2], dtype=object) array([1, 1], dtype=object)\n array([1, 1], dtype=object) array([1, 1], dtype=object)\n array([1, 1], dtype=object) array([1, 2], dtype=object)\n array([1, 1], dtype=object) array([1, 1], dtype=object)\n array([1, 1], dtype=object) array([1, 1], dtype=object)\n array([1, 1], dtype=object) array([1, 2], dtype=object)\n array([1, 2], dtype=object) array([1, 1], dtype=object)\n array([1, 1], dtype=object) array([1, 1], dtype=object)\n array([1, 1], dtype=object) array([1, 1], dtype=object)\n array([1, 1], dtype=object) array([1, 1], dtype=object)\n array([1, 1], dtype=object) array([1, 1], dtype=object)\n array([1, 2], dtype=object) array([1, 1], dtype=object)\n array([1, 2], dtype=object) array([1, 1], dtype=object)\n array([1, 2], dtype=object) array([1, 2], dtype=object)\n array([1, 2], dtype=object) array([1, 2], dtype=object)\n array([1, 1], dtype=object) array([1, 2], dtype=object)\n array([1, 2], dtype=object) array([1, 1], dtype=object)\n array([1, 1], dtype=object) array([1, 1], dtype=object)\n array([1, 2], dtype=object) array([1, 1], dtype=object)\n array([1, 2], dtype=object) array([1, 1], dtype=object)\n array([1, 1], dtype=object) array([1, 1], dtype=object)\n array([1, 2], dtype=object) array([1, 2], dtype=object)\n array([1, 1], dtype=object)]\nc 600\n<class 'int'>\n"
     ]
    }
   ],
   "source": [
    "test_dh = dh.DataHolder(discretizated_data_set, class_set)\n",
    "print(test_dh.extract_class(0).data_set, test_dh.extract_class(0).class_set)\n",
    "print(test_dh.extract_class_and_index(0, 1, 0).data_set)\n",
    "print(\"c\", test_dh.count)\n",
    "print(type(test_dh.count))\n"
   ]
  },
  {
   "cell_type": "code",
   "execution_count": 6,
   "metadata": {},
   "outputs": [
    {
     "name": "stdout",
     "output_type": "stream",
     "text": [
      "[]\n"
     ]
    }
   ],
   "source": [
    "print(test_dh.extract_data_index(0, 0).data_set)"
   ]
  },
  {
   "cell_type": "markdown",
   "metadata": {},
   "source": [
    "# 確率の箇所のテスト"
   ]
  },
  {
   "cell_type": "code",
   "execution_count": 7,
   "metadata": {
    "collapsed": false
   },
   "outputs": [
    {
     "name": "stdout",
     "output_type": "stream",
     "text": [
      "0.25\n0.25\n0.25\n0.25\n0.0\n0.36666666666666664\n0.13333333333333333\n0.1\n0.4\n1.0\n"
     ]
    }
   ],
   "source": [
    "test_pb = pc.ProbCalculator(test_dh)\n",
    "print(test_pb.prob_class(0))\n",
    "print(test_pb.prob_class(1))\n",
    "print(test_pb.prob_class(2))\n",
    "print(test_pb.prob_class(3))\n",
    "print(test_pb.prob_data_index(0, 0))\n",
    "print(test_pb.prob_data_index(0, 1))\n",
    "print(test_pb.prob_data_index(0, 2))\n",
    "print(test_pb.prob_data_index(0, 3))\n",
    "print(test_pb.prob_data_index(0, 4))\n",
    "print(test_pb.prob_data_index(0, 0)+test_pb.prob_data_index(0, 1)+test_pb.prob_data_index(0, 2)+test_pb.prob_data_index(0, 3)+test_pb.prob_data_index(0, 4))\n"
   ]
  },
  {
   "cell_type": "code",
   "execution_count": 19,
   "metadata": {},
   "outputs": [
    {
     "name": "stdout",
     "output_type": "stream",
     "text": [
      "0.175\n0.19166666666666668\n0.0\n0.0\n"
     ]
    }
   ],
   "source": [
    "print(test_pb.prob_data_index_and_class(0, 1, 0))\n",
    "print(test_pb.prob_data_index_and_class(0, 1, 1))\n",
    "print(test_pb.prob_data_index_and_class(0, 1, 2))\n",
    "print(test_pb.prob_data_index_and_class(0, 1, 3))\n",
    "\n"
   ]
  },
  {
   "cell_type": "code",
   "execution_count": 22,
   "metadata": {},
   "outputs": [
    {
     "name": "stdout",
     "output_type": "stream",
     "text": [
      "0.7\n0.7666666666666667\n0.0\n0.0\n"
     ]
    }
   ],
   "source": [
    "print(test_pb.prob_data_index_in_class(0, 1, 0))\n",
    "print(test_pb.prob_data_index_in_class(0, 1, 1))\n",
    "print(test_pb.prob_data_index_in_class(0, 1, 2))\n",
    "print(test_pb.prob_data_index_in_class(0, 1, 3))\n"
   ]
  },
  {
   "cell_type": "code",
   "execution_count": 10,
   "metadata": {},
   "outputs": [
    {
     "name": "stdout",
     "output_type": "stream",
     "text": [
      "0.175\n"
     ]
    }
   ],
   "source": [
    "print(test_pb.prob_data_index_in_class(0, 1, 0)*test_pb.prob_class(0))"
   ]
  },
  {
   "cell_type": "code",
   "execution_count": null,
   "metadata": {},
   "outputs": [],
   "source": []
  }
 ],
 "metadata": {
  "kernelspec": {
   "display_name": "Python 2",
   "language": "python",
   "name": "python2"
  },
  "language_info": {
   "codemirror_mode": {
    "name": "ipython",
    "version": 2
   },
   "file_extension": ".py",
   "mimetype": "text/x-python",
   "name": "python",
   "nbconvert_exporter": "python",
   "pygments_lexer": "ipython2",
   "version": "2.7.6"
  }
 },
 "nbformat": 4,
 "nbformat_minor": 0
}
