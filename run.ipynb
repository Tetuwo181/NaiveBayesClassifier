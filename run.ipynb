{
 "cells": [
  {
   "cell_type": "code",
   "execution_count": null,
   "metadata": {},
   "outputs": [],
   "source": [
    "import pandas as pd\n",
    "from matplotlib import pyplot as plt\n",
    "import numpy as np\n",
    "import os\n",
    "from parts import discretizatior\n",
    "from parts import trainer\n"
   ]
  },
  {
   "cell_type": "markdown",
   "metadata": {},
   "source": [
    "# データを読み込む"
   ]
  },
  {
   "cell_type": "code",
   "execution_count": null,
   "metadata": {},
   "outputs": [],
   "source": [
    "DATA_DIR_PATH = os.path.join(os.getcwd(), \"data\")\n",
    "DATA_SET_NAME = \"sample_naivebayes.csv\"\n",
    "DATA_SET_PATH = os.path.join(DATA_DIR_PATH, DATA_SET_NAME)\n",
    "DIVIDE_NUM = 5\n"
   ]
  },
  {
   "cell_type": "code",
   "execution_count": null,
   "metadata": {},
   "outputs": [],
   "source": [
    "base_df = pd.read_csv(DATA_SET_PATH, header=None)\n",
    "class_set = base_df[base_df.columns[-1]].values\n",
    "row_data_set = base_df[base_df.columns[:-1]].values\n",
    "print(len(base_df))"
   ]
  },
  {
   "cell_type": "markdown",
   "metadata": {},
   "source": [
    "# 読み込んだデータを図示"
   ]
  },
  {
   "cell_type": "code",
   "execution_count": null,
   "metadata": {},
   "outputs": [],
   "source": [
    "fig = plt.figure()\n",
    "\n",
    "ax = fig.add_subplot(1,1,1)\n",
    "\n",
    "ax.scatter(base_df[base_df[2]==0][0].values, base_df[base_df[2]==0][1].values, c='red')\n",
    "ax.scatter(base_df[base_df[2]==1][0].values, base_df[base_df[2]==1][1].values, c='blue')\n",
    "ax.scatter(base_df[base_df[2]==2][0].values, base_df[base_df[2]==2][1].values, c='yellow')\n",
    "ax.scatter(base_df[base_df[2]==3][0].values, base_df[base_df[2]==3][1].values, c='green')\n",
    "\n",
    "ax.set_title('data set')\n",
    "ax.set_xlabel('x')\n",
    "ax.set_ylabel('y')\n",
    "\n",
    "fig.show()\n"
   ]
  },
  {
   "cell_type": "code",
   "execution_count": null,
   "metadata": {},
   "outputs": [],
   "source": [
    "discretizatior_base = discretizatior.sample(DIVIDE_NUM)\n",
    "vectorised_discretizatior = np.frompyfunc(discretizatior_base, 1, 1)\n",
    "discretizated_data_set = [vectorised_discretizatior(data) for data in row_data_set]\n"
   ]
  },
  {
   "cell_type": "code",
   "execution_count": null,
   "metadata": {},
   "outputs": [],
   "source": [
    "model = trainer.Trainer(4).train(discretizated_data_set, class_set)\n"
   ]
  },
  {
   "cell_type": "code",
   "execution_count": null,
   "metadata": {},
   "outputs": [],
   "source": [
    "print(discretizated_data_set[0])\n",
    "print(model.calc_fitness_value(discretizated_data_set[0], 0))\n",
    "print(model.calc_fitness_value(discretizated_data_set[0], 1))\n",
    "print(model.calc_fitness_value(discretizated_data_set[0], 2))\n",
    "print(model.calc_fitness_value(discretizated_data_set[0], 3))\n"
   ]
  },
  {
   "cell_type": "code",
   "execution_count": null,
   "metadata": {},
   "outputs": [],
   "source": [
    "print(model.predict(discretizated_data_set[0]))\n",
    "print(model.predict(discretizated_data_set[151]))\n",
    "print(model.predict(discretizated_data_set[301]))\n",
    "print(model.predict(discretizated_data_set[451]))\n"
   ]
  },
  {
   "cell_type": "code",
   "execution_count": null,
   "metadata": {},
   "outputs": [],
   "source": [
    "print(model.test(discretizated_data_set, class_set))"
   ]
  },
  {
   "cell_type": "markdown",
   "metadata": {},
   "source": [
    "# 判定エリアを図示"
   ]
  },
  {
   "cell_type": "code",
   "execution_count": null,
   "metadata": {},
   "outputs": [],
   "source": [
    "area_base = np.linspace(0, 1, num=100)\n",
    "area_set_base = np.array([[(x, y) for y in area_base] for x in area_base])\n",
    "area_set = []\n",
    "for area_base in area_set_base:\n",
    "    area_set.extend(area_base)\n",
    "discretizated_area_set = np.array([vectorised_discretizatior(data) for data in area_set])\n",
    "print(area_set[0])"
   ]
  },
  {
   "cell_type": "code",
   "execution_count": null,
   "metadata": {},
   "outputs": [],
   "source": [
    "\n",
    "result_set = [(area[0], area[1], model.predict(area)) for area in discretizated_area_set]\n",
    "result_df = pd.DataFrame({\"x\":[value[0] for value in area_set],\n",
    "                          \"y\":[value[1] for value in area_set],\n",
    "                          \"C\":[value[2] for value in result_set],\n",
    "                          \"converted_x\": [value[0] for value in result_set],\n",
    "                          \"converted_y\": [value[1] for value in result_set],                          \n",
    "                         })\n",
    "result_df[result_df[\"C\"]==0].x"
   ]
  },
  {
   "cell_type": "code",
   "execution_count": null,
   "metadata": {},
   "outputs": [],
   "source": [
    "fig_result = plt.figure()\n",
    "\n",
    "ax_result = fig_result.add_subplot(1,1,1)\n",
    "\n",
    "ax_result.scatter(base_df[base_df[2]==0][0].values, base_df[base_df[2]==0][1].values, c='red')\n",
    "ax_result.scatter(base_df[base_df[2]==1][0].values, base_df[base_df[2]==1][1].values, c='blue')\n",
    "ax_result.scatter(base_df[base_df[2]==2][0].values, base_df[base_df[2]==2][1].values, c='yellow')\n",
    "ax_result.scatter(base_df[base_df[2]==3][0].values, base_df[base_df[2]==3][1].values, c='green')\n",
    "\n",
    "ax_result.scatter(result_df[result_df[\"C\"]==0].x.values, result_df[result_df[\"C\"]==0].y.values, c='red', alpha=0.05)\n",
    "ax_result.scatter(result_df[result_df[\"C\"]==1].x.values, result_df[result_df[\"C\"]==1].y.values, c='blue', alpha=0.05)\n",
    "ax_result.scatter(result_df[result_df[\"C\"]==2].x.values, result_df[result_df[\"C\"]==2].y.values, c='yellow', alpha=0.05)\n",
    "ax_result.scatter(result_df[result_df[\"C\"]==3].x.values, result_df[result_df[\"C\"]==3].y.values, c='green', alpha=0.05)\n",
    "\n",
    "ax_result.set_title('result')\n",
    "ax_result.set_xlabel('x')\n",
    "ax_result.set_ylabel('y')\n",
    "\n",
    "fig_result.show()"
   ]
  },
  {
   "cell_type": "code",
   "execution_count": null,
   "metadata": {},
   "outputs": [],
   "source": []
  }
 ],
 "metadata": {
  "kernelspec": {
   "display_name": "Python 3",
   "language": "python",
   "name": "python3"
  },
  "language_info": {
   "codemirror_mode": {
    "name": "ipython",
    "version": 3
   },
   "file_extension": ".py",
   "mimetype": "text/x-python",
   "name": "python",
   "nbconvert_exporter": "python",
   "pygments_lexer": "ipython3",
   "version": "3.6.8"
  }
 },
 "nbformat": 4,
 "nbformat_minor": 1
}
