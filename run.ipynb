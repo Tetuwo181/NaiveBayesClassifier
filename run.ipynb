{
 "cells": [
  {
   "cell_type": "code",
   "execution_count": 2,
   "metadata": {
    "collapsed": true
   },
   "outputs": [],
   "source": [
    "import pandas as pd\n",
    "import numpy as np\n",
    "import os\n",
    "from parts import discretizatior\n",
    "from parts import trainer\n"
   ]
  },
  {
   "cell_type": "markdown",
   "metadata": {},
   "source": [
    "# データを読み込む"
   ]
  },
  {
   "cell_type": "code",
   "execution_count": 3,
   "metadata": {},
   "outputs": [],
   "source": [
    "DATA_DIR_PATH = os.path.join(os.getcwd(), \"data\")\n",
    "DATA_SET_NAME = \"sample.csv\"\n",
    "DATA_SET_PATH = os.path.join(DATA_DIR_PATH, DATA_SET_NAME)\n",
    "DIVIDE_NUM = 3\n"
   ]
  },
  {
   "cell_type": "code",
   "execution_count": 4,
   "metadata": {
    "collapsed": false
   },
   "outputs": [
    {
     "name": "stdout",
     "output_type": "stream",
     "text": [
      "600\n"
     ]
    }
   ],
   "source": [
    "base_df = pd.read_csv(DATA_SET_PATH, header=None)\n",
    "class_set = base_df[base_df.columns[-1]].values\n",
    "row_data_set = base_df[base_df.columns[:-1]].values\n",
    "print(len(base_df))"
   ]
  },
  {
   "cell_type": "code",
   "execution_count": 5,
   "metadata": {
    "collapsed": false
   },
   "outputs": [],
   "source": [
    "discretizatior_base = discretizatior.sample(DIVIDE_NUM)\n",
    "vectorised_discretizatior = np.frompyfunc(discretizatior_base, 1, 1)\n",
    "discretizated_data_set = [vectorised_discretizatior(data) for data in row_data_set]\n"
   ]
  },
  {
   "cell_type": "code",
   "execution_count": 6,
   "metadata": {},
   "outputs": [],
   "source": [
    "model = trainer.Trainer(4).train(discretizated_data_set, class_set)\n"
   ]
  },
  {
   "cell_type": "code",
   "execution_count": 7,
   "metadata": {
    "collapsed": false
   },
   "outputs": [
    {
     "name": "stdout",
     "output_type": "stream",
     "text": [
      "[1 0]\n0.2739555555555555\n0.0\n0.0\n0.0\n"
     ]
    }
   ],
   "source": [
    "print(discretizated_data_set[0])\n",
    "print(model.calc_fitness_value(discretizated_data_set[0], 0))\n",
    "print(model.calc_fitness_value(discretizated_data_set[0], 1))\n",
    "print(model.calc_fitness_value(discretizated_data_set[0], 2))\n",
    "print(model.calc_fitness_value(discretizated_data_set[0], 3))\n"
   ]
  },
  {
   "cell_type": "code",
   "execution_count": 8,
   "metadata": {
    "collapsed": true
   },
   "outputs": [
    {
     "name": "stdout",
     "output_type": "stream",
     "text": [
      "0\n1\n2\n3\n"
     ]
    }
   ],
   "source": [
    "print(model.predict(discretizated_data_set[0]))\n",
    "print(model.predict(discretizated_data_set[151]))\n",
    "print(model.predict(discretizated_data_set[301]))\n",
    "print(model.predict(discretizated_data_set[451]))\n"
   ]
  },
  {
   "cell_type": "code",
   "execution_count": 9,
   "metadata": {},
   "outputs": [
    {
     "name": "stdout",
     "output_type": "stream",
     "text": [
      "1.0\n"
     ]
    }
   ],
   "source": [
    "print(model.test(discretizated_data_set, class_set))"
   ]
  },
  {
   "cell_type": "code",
   "execution_count": 17,
   "metadata": {},
   "outputs": [],
   "source": []
  },
  {
   "cell_type": "code",
   "execution_count": null,
   "metadata": {},
   "outputs": [],
   "source": []
  }
 ],
 "metadata": {
  "kernelspec": {
   "display_name": "Python 2",
   "language": "python",
   "name": "python2"
  },
  "language_info": {
   "codemirror_mode": {
    "name": "ipython",
    "version": 2
   },
   "file_extension": ".py",
   "mimetype": "text/x-python",
   "name": "python",
   "nbconvert_exporter": "python",
   "pygments_lexer": "ipython2",
   "version": "2.7.6"
  }
 },
 "nbformat": 4,
 "nbformat_minor": 0
}
